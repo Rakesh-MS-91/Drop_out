{
 "cells": [
  {
   "cell_type": "markdown",
   "metadata": {},
   "source": [
    "# Dropout\n",
    "Dropout [1] is a technique for regularizing neural networks by randomly setting some features to zero during the forward pass. In this exercise you will implement a dropout layer and modify your fully-connected network to optionally use dropout.\n",
    "\n",
    "[1] [Geoffrey E. Hinton et al, \"Improving neural networks by preventing co-adaptation of feature detectors\", arXiv 2012](https://arxiv.org/abs/1207.0580)"
   ]
  },
  {
   "cell_type": "code",
   "execution_count": 2,
   "metadata": {},
   "outputs": [
    {
     "name": "stdout",
     "output_type": "stream",
     "text": [
      "run the following from the dl01ec directory and try again:\n",
      "python setup.py build_ext --inplace\n",
      "You may also need to restart your iPython kernel\n"
     ]
    }
   ],
   "source": [
    "# As usual, a bit of setup\n",
    "from __future__ import print_function\n",
    "import time\n",
    "import numpy as np\n",
    "import matplotlib.pyplot as plt\n",
    "from dl01ec.classifiers.fc_net import *\n",
    "from dl01ec.data_utils import get_CIFAR10_data\n",
    "from dl01ec.gradient_check import eval_numerical_gradient, eval_numerical_gradient_array\n",
    "from dl01ec.solver import Solver\n",
    "\n",
    "%matplotlib inline\n",
    "plt.rcParams['figure.figsize'] = (10.0, 8.0) # set default size of plots\n",
    "plt.rcParams['image.interpolation'] = 'nearest'\n",
    "plt.rcParams['image.cmap'] = 'gray'\n",
    "\n",
    "# for auto-reloading external modules\n",
    "# see http://stackoverflow.com/questions/1907993/autoreload-of-modules-in-ipython\n",
    "%load_ext autoreload\n",
    "%autoreload 2\n",
    "\n",
    "def rel_error(x, y):\n",
    "  \"\"\" returns relative error \"\"\"\n",
    "  return np.max(np.abs(x - y) / (np.maximum(1e-8, np.abs(x) + np.abs(y))))"
   ]
  },
  {
   "cell_type": "code",
   "execution_count": 3,
   "metadata": {},
   "outputs": [
    {
     "name": "stdout",
     "output_type": "stream",
     "text": [
      "X_train:  (49000, 3, 32, 32)\n",
      "y_train:  (49000,)\n",
      "X_val:  (1000, 3, 32, 32)\n",
      "y_val:  (1000,)\n",
      "X_test:  (1000, 3, 32, 32)\n",
      "y_test:  (1000,)\n"
     ]
    }
   ],
   "source": [
    "# Load the (preprocessed) CIFAR10 data.\n",
    "\n",
    "data = get_CIFAR10_data()\n",
    "for k, v in data.items():\n",
    "  print('%s: ' % k, v.shape)"
   ]
  },
  {
   "cell_type": "markdown",
   "metadata": {},
   "source": [
    "# Dropout forward pass\n",
    "In the file `dl01ec/layers.py`, implement the forward pass for dropout. Since dropout behaves differently during training and testing, make sure to implement the operation for both modes.\n",
    "\n",
    "Once you have done so, run the cell below to test your implementation."
   ]
  },
  {
   "cell_type": "code",
   "execution_count": 4,
   "metadata": {},
   "outputs": [
    {
     "name": "stdout",
     "output_type": "stream",
     "text": [
      "Running tests with p =  0.25\n",
      "Mean of input:  10.000207878477502\n",
      "Mean of train-time output:  10.014059116977283\n",
      "Mean of test-time output:  10.000207878477502\n",
      "Fraction of train-time output set to zero:  0.749784\n",
      "Fraction of test-time output set to zero:  0.0\n",
      "\n",
      "Running tests with p =  0.4\n",
      "Mean of input:  10.000207878477502\n",
      "Mean of train-time output:  9.977917658761159\n",
      "Mean of test-time output:  10.000207878477502\n",
      "Fraction of train-time output set to zero:  0.600796\n",
      "Fraction of test-time output set to zero:  0.0\n",
      "\n",
      "Running tests with p =  0.7\n",
      "Mean of input:  10.000207878477502\n",
      "Mean of train-time output:  9.987811912159426\n",
      "Mean of test-time output:  10.000207878477502\n",
      "Fraction of train-time output set to zero:  0.30074\n",
      "Fraction of test-time output set to zero:  0.0\n",
      "\n"
     ]
    }
   ],
   "source": [
    "np.random.seed(231)\n",
    "x = np.random.randn(500, 500) + 10\n",
    "\n",
    "for p in [0.25, 0.4, 0.7]:\n",
    "  out, _ = dropout_forward(x, {'mode': 'train', 'p': p})\n",
    "  out_test, _ = dropout_forward(x, {'mode': 'test', 'p': p})\n",
    "\n",
    "  print('Running tests with p = ', p)\n",
    "  print('Mean of input: ', x.mean())\n",
    "  print('Mean of train-time output: ', out.mean())\n",
    "  print('Mean of test-time output: ', out_test.mean())\n",
    "  print('Fraction of train-time output set to zero: ', (out == 0).mean())\n",
    "  print('Fraction of test-time output set to zero: ', (out_test == 0).mean())\n",
    "  print()"
   ]
  },
  {
   "cell_type": "markdown",
   "metadata": {},
   "source": [
    "# Dropout backward pass\n",
    "In the file `dl01ec/layers.py`, implement the backward pass for dropout. After doing so, run the following cell to numerically gradient-check your implementation."
   ]
  },
  {
   "cell_type": "code",
   "execution_count": 59,
   "metadata": {},
   "outputs": [
    {
     "name": "stdout",
     "output_type": "stream",
     "text": [
      "x:\n",
      "[[10.41794341 11.39710028  8.21409569  9.29117227  9.92527468]\n",
      " [ 9.22498323  9.8502021  11.86172902  8.5744707   9.6236433 ]]\n",
      "x.shape: (2, 5)\n",
      "*x.shape: 2 5\n",
      "*x:\n",
      "[10.41794341 11.39710028  8.21409569  9.29117227  9.92527468] [ 9.22498323  9.8502021  11.86172902  8.5744707   9.6236433 ]\n",
      "mask1:\n",
      "[[0.81013282 0.14005397 0.7511994  0.27910319 0.94910551]\n",
      " [0.88502136 0.61016226 0.7791191  0.04155608 0.78641275]]\n",
      "mask2:\n",
      "[[0. 2. 0. 0. 0.]\n",
      " [0. 0. 0. 2. 0.]]\n",
      "out:\n",
      "[[ 0.         22.79420056  0.          0.          0.        ]\n",
      " [ 0.          0.          0.         17.1489414   0.        ]]\n"
     ]
    }
   ],
   "source": [
    "np.random.seed(231)\n",
    "x = np.random.randn(2, 5) + 10\n",
    "print('x:')\n",
    "print(x)\n",
    "print('x.shape:', x.shape)\n",
    "print('*x.shape:', *x.shape)\n",
    "mask1 = np.random.rand(*x.shape)\n",
    "print('mask1:')\n",
    "print(mask1)\n",
    "mask2 = (np.random.rand(*x.shape) < 0.5)/0.5\n",
    "print('mask2:')\n",
    "print(mask2)\n",
    "out = x * mask2\n",
    "print('out:')\n",
    "print(out)"
   ]
  },
  {
   "cell_type": "code",
   "execution_count": 9,
   "metadata": {},
   "outputs": [
    {
     "name": "stdout",
     "output_type": "stream",
     "text": [
      "dx relative error:  5.44560814873387e-11\n"
     ]
    }
   ],
   "source": [
    "np.random.seed(231)\n",
    "x = np.random.randn(10, 10) + 10\n",
    "dout = np.random.randn(*x.shape)\n",
    "\n",
    "dropout_param = {'mode': 'train', 'p': 0.2, 'seed': 123}\n",
    "out, cache = dropout_forward(x, dropout_param)\n",
    "dx = dropout_backward(dout, cache)\n",
    "dx_num = eval_numerical_gradient_array(lambda xx: dropout_forward(xx, dropout_param)[0], x, dout)\n",
    "\n",
    "# Error should be around e-10 or less\n",
    "print('dx relative error: ', rel_error(dx, dx_num))"
   ]
  },
  {
   "cell_type": "markdown",
   "metadata": {},
   "source": [
    "## Inline Question 1:\n",
    "What happens if we do not divide the values being passed through inverse dropout by `p` in the dropout layer? Why does that happen?"
   ]
  },
  {
   "cell_type": "markdown",
   "metadata": {},
   "source": [
    "## Answer:\n",
    "**Cherian & Raghu:** If we do not use ***inverted dropout***, we will have to perform a scaling of the hidden layer outputs by ***p***. This is important because at test time all neurons see all their inputs, so we want the outputs of neurons at test time to be identical to their expected outputs at training time. For example, in case of ***p = 0.5***, the neurons must halve their outputs at test time to have the same output as they had during training time.\n",
    "\n",
    "This property of scaling the activations by ***p*** at test time is undesirable as test-time performance is so critical. Hence, it is always preferable to use inverted dropout, which performs the scaling at train time, leaving the forward pass at test time untouched. Additionally, this has the appealing property that the prediction code can remain untouched when you decide to tweak where you apply dropout, or if at all dropout is used. "
   ]
  },
  {
   "cell_type": "code",
   "execution_count": 79,
   "metadata": {},
   "outputs": [
    {
     "name": "stdout",
     "output_type": "stream",
     "text": [
      "x:\n",
      "[[1 3 5]\n",
      " [2 4 6]]\n",
      "wh:\n",
      "[[-0.2  -0.16 -0.13 -0.1  -0.3 ]\n",
      " [-0.02  0.01  0.1   0.2   0.15]\n",
      " [ 0.3   0.5  -0.7   0.55 -0.45]]\n",
      "bh:\n",
      "[-0.3 -0.2 -0.1  0.   0.1]\n",
      "outH:\n",
      "[[ 0.94  2.17 -3.43  3.25 -2.  ]\n",
      " [ 1.02  2.52 -4.16  3.9  -2.6 ]]\n",
      "outR:\n",
      "[[0.94 2.17 0.   3.25 0.  ]\n",
      " [1.02 2.52 0.   3.9  0.  ]]\n",
      "mask:\n",
      "[[False False  True  True False]\n",
      " [False  True False  True  True]]\n",
      "outD:\n",
      "[[0.   0.   0.   3.25 0.  ]\n",
      " [0.   2.52 0.   3.9  0.  ]]\n",
      "wo:\n",
      "[[-0.02  0.01  0.1   0.2 ]\n",
      " [ 0.3   0.5  -0.7   0.55]\n",
      " [-0.2  -0.16 -0.13 -0.1 ]\n",
      " [ 0.15 -0.45 -0.3   0.25]\n",
      " [ 0.35  0.55  0.85  0.75]]\n",
      "bo:\n",
      "[-0.1 -0.3  0.1 -0.2]\n",
      "outO:\n",
      "[[ 0.3875 -1.7625 -0.875   0.6125]\n",
      " [ 1.241  -0.795  -2.834   2.161 ]]\n",
      "loss:\n",
      "4.248409063514133\n",
      "goutO:\n",
      "[[ 0.18855454 -0.47803638  0.05335071  0.23613113]\n",
      " [ 0.13673035  0.01785013 -0.49767665  0.34309616]]\n",
      "gradsWO:\n",
      "[[ 0.          0.          0.          0.        ]\n",
      " [ 0.34456049  0.04498233 -1.25414515  0.86460233]\n",
      " [ 0.          0.          0.          0.        ]\n",
      " [ 1.14605064 -1.48400274 -1.76754912  2.10550122]\n",
      " [ 0.          0.          0.          0.        ]]\n",
      "gradsBO:\n",
      "[ 0.32528489 -0.46018625 -0.44432594  0.5792273 ]\n"
     ]
    }
   ],
   "source": [
    "np.random.seed(231)\n",
    "N, D, H, C = 2, 3, 5, 4\n",
    "x = np.array([[1, 3, 5], [2, 4, 6]])\n",
    "y = np.array([1, 2])\n",
    "wh = np.array([[-0.2, -0.16, -0.13, -0.1, -0.3], [-0.02, 0.01, 0.1, 0.2, 0.15], [0.3, 0.5, -0.7, 0.55, -0.45]])\n",
    "bh = np.array([-0.3, -0.2, -0.1, 0, 0.1])\n",
    "\n",
    "outH, cacheH = affine_forward(x, wh, bh)\n",
    "outR, cacheR = relu_forward(outH)\n",
    "outD, cacheD = dropout_forward(outR, {'mode': 'train', 'p': 0.5})\n",
    "_, mask = cacheD\n",
    "\n",
    "wo = np.array([[-0.02, 0.01, 0.1, 0.2], [0.3, 0.5, -0.7, 0.55], [-0.2, -0.16, -0.13, -0.1], [0.15, -0.45, -0.3, 0.25],\n",
    "               [0.35, 0.55, 0.85, 0.75] ])\n",
    "bo = np.array([-0.1, -0.3, 0.1, -0.2])\n",
    "outO, cacheO = affine_forward(outD, wo, bo)\n",
    "\n",
    "loss, goutO = softmax_loss(outO, y)\n",
    "dx2, gradsWO, gradsBO = affine_backward(goutO, cacheO)\n",
    "\n",
    "print('x:')\n",
    "print(x)\n",
    "print('wh:')\n",
    "print(wh)\n",
    "print('bh:')\n",
    "print(bh)\n",
    "print('outH:')\n",
    "print(outH)\n",
    "print('outR:')\n",
    "print(outR)\n",
    "print('mask:')\n",
    "print(mask)\n",
    "print('outD:')\n",
    "print(outD)\n",
    "print('wo:')\n",
    "print(wo)\n",
    "print('bo:')\n",
    "print(bo)\n",
    "print('outO:')\n",
    "print(outO)\n",
    "print('loss:')\n",
    "print(loss)\n",
    "print('goutO:')\n",
    "print(goutO)\n",
    "print('gradsWO:')\n",
    "print(gradsWO)\n",
    "print('gradsBO:')\n",
    "print(gradsBO)\n",
    "\n"
   ]
  },
  {
   "cell_type": "markdown",
   "metadata": {},
   "source": [
    "# Fully-connected nets with Dropout\n",
    "In the file `dl01ec/classifiers/fc_net.py`, modify your implementation to use dropout. Specifically, if the constructor of the net receives a value that is not 1 for the `dropout` parameter, then the net should add dropout immediately after every ReLU nonlinearity. After doing so, run the following to numerically gradient-check your implementation."
   ]
  },
  {
   "cell_type": "code",
   "execution_count": 11,
   "metadata": {},
   "outputs": [
    {
     "name": "stdout",
     "output_type": "stream",
     "text": [
      "Running check with dropout =  1\n",
      "Initial loss:  2.3004790897684924\n",
      "W1 relative error: 1.48e-07\n",
      "W2 relative error: 2.21e-05\n",
      "W3 relative error: 3.53e-07\n",
      "b1 relative error: 5.38e-09\n",
      "b2 relative error: 2.09e-09\n",
      "b3 relative error: 5.80e-11\n",
      "\n",
      "Running check with dropout =  0.75\n",
      "Initial loss:  2.302371489704412\n",
      "W1 relative error: 1.90e-07\n",
      "W2 relative error: 4.76e-06\n",
      "W3 relative error: 2.60e-08\n",
      "b1 relative error: 4.73e-09\n",
      "b2 relative error: 1.82e-09\n",
      "b3 relative error: 1.70e-10\n",
      "\n",
      "Running check with dropout =  0.5\n",
      "Initial loss:  2.3042759220785896\n",
      "W1 relative error: 3.11e-07\n",
      "W2 relative error: 1.84e-08\n",
      "W3 relative error: 5.35e-08\n",
      "b1 relative error: 5.37e-09\n",
      "b2 relative error: 2.99e-09\n",
      "b3 relative error: 1.13e-10\n",
      "\n"
     ]
    }
   ],
   "source": [
    "np.random.seed(231)\n",
    "N, D, H1, H2, C = 2, 15, 20, 30, 10\n",
    "X = np.random.randn(N, D)\n",
    "y = np.random.randint(C, size=(N,))\n",
    "\n",
    "for dropout in [1, 0.75, 0.5]:\n",
    "  print('Running check with dropout = ', dropout)\n",
    "  model = FullyConnectedNet([H1, H2], input_dim=D, num_classes=C,\n",
    "                            weight_scale=5e-2, dtype=np.float64,\n",
    "                            dropout=dropout, seed=123)\n",
    "\n",
    "  loss, grads = model.loss(X, y)\n",
    "  print('Initial loss: ', loss)\n",
    "  \n",
    "  # Relative errors should be around e-6 or less; Note that it's fine\n",
    "  # if for dropout=1 you have W2 error be on the order of e-5.\n",
    "  for name in sorted(grads):\n",
    "    f = lambda _: model.loss(X, y)[0]\n",
    "    grad_num = eval_numerical_gradient(f, model.params[name], verbose=False, h=1e-5)\n",
    "    print('%s relative error: %.2e' % (name, rel_error(grad_num, grads[name])))\n",
    "  print()"
   ]
  },
  {
   "cell_type": "markdown",
   "metadata": {},
   "source": [
    "# Regularization experiment\n",
    "As an experiment, we will train a pair of two-layer networks on 500 training examples: one will use no dropout, and one will use a keep probability of 0.25. We will then visualize the training and validation accuracies of the two networks over time."
   ]
  },
  {
   "cell_type": "code",
   "execution_count": 15,
   "metadata": {
    "scrolled": false
   },
   "outputs": [
    {
     "name": "stdout",
     "output_type": "stream",
     "text": [
      "1\n",
      "(Iteration 1 / 125) loss: 7.856643\n",
      "(Epoch 0 / 25) train acc: 0.260000; val_acc: 0.184000\n",
      "(Epoch 1 / 25) train acc: 0.416000; val_acc: 0.258000\n",
      "(Epoch 2 / 25) train acc: 0.482000; val_acc: 0.276000\n",
      "(Epoch 3 / 25) train acc: 0.532000; val_acc: 0.277000\n",
      "(Epoch 4 / 25) train acc: 0.600000; val_acc: 0.271000\n",
      "(Epoch 5 / 25) train acc: 0.708000; val_acc: 0.299000\n",
      "(Iteration 26 / 125) loss: 3.990512\n",
      "(Epoch 6 / 25) train acc: 0.722000; val_acc: 0.282000\n",
      "(Epoch 7 / 25) train acc: 0.832000; val_acc: 0.255000\n",
      "(Epoch 8 / 25) train acc: 0.880000; val_acc: 0.268000\n",
      "(Epoch 9 / 25) train acc: 0.902000; val_acc: 0.277000\n",
      "(Epoch 10 / 25) train acc: 0.898000; val_acc: 0.261000\n",
      "(Iteration 51 / 125) loss: 0.405129\n",
      "(Epoch 11 / 25) train acc: 0.924000; val_acc: 0.263000\n",
      "(Epoch 12 / 25) train acc: 0.960000; val_acc: 0.300000\n",
      "(Epoch 13 / 25) train acc: 0.972000; val_acc: 0.314000\n",
      "(Epoch 14 / 25) train acc: 0.972000; val_acc: 0.310000\n",
      "(Epoch 15 / 25) train acc: 0.974000; val_acc: 0.314000\n",
      "(Iteration 76 / 125) loss: 0.089274\n",
      "(Epoch 16 / 25) train acc: 0.994000; val_acc: 0.304000\n",
      "(Epoch 17 / 25) train acc: 0.970000; val_acc: 0.305000\n",
      "(Epoch 18 / 25) train acc: 0.990000; val_acc: 0.311000\n",
      "(Epoch 19 / 25) train acc: 0.988000; val_acc: 0.308000\n",
      "(Epoch 20 / 25) train acc: 0.992000; val_acc: 0.287000\n",
      "(Iteration 101 / 125) loss: 0.001417\n",
      "(Epoch 21 / 25) train acc: 0.994000; val_acc: 0.291000\n",
      "(Epoch 22 / 25) train acc: 0.998000; val_acc: 0.308000\n",
      "(Epoch 23 / 25) train acc: 0.996000; val_acc: 0.308000\n",
      "(Epoch 24 / 25) train acc: 0.998000; val_acc: 0.307000\n",
      "(Epoch 25 / 25) train acc: 0.994000; val_acc: 0.305000\n",
      "0.75\n",
      "(Iteration 1 / 125) loss: 11.299055\n",
      "(Epoch 0 / 25) train acc: 0.234000; val_acc: 0.187000\n",
      "(Epoch 1 / 25) train acc: 0.388000; val_acc: 0.241000\n",
      "(Epoch 2 / 25) train acc: 0.552000; val_acc: 0.263000\n",
      "(Epoch 3 / 25) train acc: 0.608000; val_acc: 0.265000\n",
      "(Epoch 4 / 25) train acc: 0.676000; val_acc: 0.282000\n",
      "(Epoch 5 / 25) train acc: 0.760000; val_acc: 0.285000\n",
      "(Iteration 26 / 125) loss: 3.260786\n",
      "(Epoch 6 / 25) train acc: 0.766000; val_acc: 0.291000\n",
      "(Epoch 7 / 25) train acc: 0.836000; val_acc: 0.271000\n",
      "(Epoch 8 / 25) train acc: 0.866000; val_acc: 0.288000\n",
      "(Epoch 9 / 25) train acc: 0.858000; val_acc: 0.283000\n",
      "(Epoch 10 / 25) train acc: 0.840000; val_acc: 0.275000\n",
      "(Iteration 51 / 125) loss: 1.852692\n",
      "(Epoch 11 / 25) train acc: 0.904000; val_acc: 0.295000\n",
      "(Epoch 12 / 25) train acc: 0.932000; val_acc: 0.291000\n",
      "(Epoch 13 / 25) train acc: 0.920000; val_acc: 0.292000\n",
      "(Epoch 14 / 25) train acc: 0.950000; val_acc: 0.296000\n",
      "(Epoch 15 / 25) train acc: 0.956000; val_acc: 0.309000\n",
      "(Iteration 76 / 125) loss: 0.430968\n",
      "(Epoch 16 / 25) train acc: 0.956000; val_acc: 0.296000\n",
      "(Epoch 17 / 25) train acc: 0.968000; val_acc: 0.310000\n",
      "(Epoch 18 / 25) train acc: 0.960000; val_acc: 0.308000\n",
      "(Epoch 19 / 25) train acc: 0.968000; val_acc: 0.298000\n",
      "(Epoch 20 / 25) train acc: 0.966000; val_acc: 0.286000\n",
      "(Iteration 101 / 125) loss: 0.533795\n",
      "(Epoch 21 / 25) train acc: 0.982000; val_acc: 0.280000\n",
      "(Epoch 22 / 25) train acc: 0.974000; val_acc: 0.292000\n",
      "(Epoch 23 / 25) train acc: 0.974000; val_acc: 0.303000\n",
      "(Epoch 24 / 25) train acc: 0.988000; val_acc: 0.307000\n",
      "(Epoch 25 / 25) train acc: 0.962000; val_acc: 0.285000\n",
      "0.5\n",
      "(Iteration 1 / 125) loss: 13.319308\n",
      "(Epoch 0 / 25) train acc: 0.220000; val_acc: 0.169000\n",
      "(Epoch 1 / 25) train acc: 0.368000; val_acc: 0.219000\n",
      "(Epoch 2 / 25) train acc: 0.508000; val_acc: 0.297000\n",
      "(Epoch 3 / 25) train acc: 0.630000; val_acc: 0.307000\n",
      "(Epoch 4 / 25) train acc: 0.680000; val_acc: 0.315000\n",
      "(Epoch 5 / 25) train acc: 0.684000; val_acc: 0.322000\n",
      "(Iteration 26 / 125) loss: 9.439238\n",
      "(Epoch 6 / 25) train acc: 0.696000; val_acc: 0.288000\n",
      "(Epoch 7 / 25) train acc: 0.778000; val_acc: 0.295000\n",
      "(Epoch 8 / 25) train acc: 0.784000; val_acc: 0.318000\n",
      "(Epoch 9 / 25) train acc: 0.812000; val_acc: 0.276000\n",
      "(Epoch 10 / 25) train acc: 0.796000; val_acc: 0.293000\n",
      "(Iteration 51 / 125) loss: 5.402437\n",
      "(Epoch 11 / 25) train acc: 0.848000; val_acc: 0.293000\n",
      "(Epoch 12 / 25) train acc: 0.866000; val_acc: 0.312000\n",
      "(Epoch 13 / 25) train acc: 0.886000; val_acc: 0.301000\n",
      "(Epoch 14 / 25) train acc: 0.866000; val_acc: 0.298000\n",
      "(Epoch 15 / 25) train acc: 0.916000; val_acc: 0.326000\n",
      "(Iteration 76 / 125) loss: 1.986021\n",
      "(Epoch 16 / 25) train acc: 0.910000; val_acc: 0.310000\n",
      "(Epoch 17 / 25) train acc: 0.938000; val_acc: 0.303000\n",
      "(Epoch 18 / 25) train acc: 0.964000; val_acc: 0.320000\n",
      "(Epoch 19 / 25) train acc: 0.968000; val_acc: 0.316000\n",
      "(Epoch 20 / 25) train acc: 0.972000; val_acc: 0.331000\n",
      "(Iteration 101 / 125) loss: 1.747498\n",
      "(Epoch 21 / 25) train acc: 0.944000; val_acc: 0.333000\n",
      "(Epoch 22 / 25) train acc: 0.990000; val_acc: 0.320000\n",
      "(Epoch 23 / 25) train acc: 0.968000; val_acc: 0.313000\n",
      "(Epoch 24 / 25) train acc: 0.958000; val_acc: 0.338000\n",
      "(Epoch 25 / 25) train acc: 0.972000; val_acc: 0.324000\n"
     ]
    }
   ],
   "source": [
    "# Train two identical nets, one with dropout and one without\n",
    "np.random.seed(231)\n",
    "num_train = 500\n",
    "small_data = {\n",
    "  'X_train': data['X_train'][:num_train],\n",
    "  'y_train': data['y_train'][:num_train],\n",
    "  'X_val': data['X_val'],\n",
    "  'y_val': data['y_val'],\n",
    "}\n",
    "\n",
    "solvers = {}\n",
    "dropout_choices = [1, 0.75, 0.5]\n",
    "for dropout in dropout_choices:\n",
    "  model = FullyConnectedNet([500], dropout=dropout)\n",
    "  print(dropout)\n",
    "\n",
    "  solver = Solver(model, small_data,\n",
    "                  num_epochs=25, batch_size=100,\n",
    "                  update_rule='adam',\n",
    "                  optim_config={\n",
    "                    'learning_rate': 5e-4,\n",
    "                  },\n",
    "                  verbose=True, print_every=25)\n",
    "  solver.train()\n",
    "  solvers[dropout] = solver"
   ]
  },
  {
   "cell_type": "code",
   "execution_count": 16,
   "metadata": {},
   "outputs": [
    {
     "data": {
      "image/png": "[encoded data removed]",
      "text/plain": [
       "<Figure size 1080x1080 with 2 Axes>"
      ]
     },
     "metadata": {
      "needs_background": "light"
     },
     "output_type": "display_data"
    }
   ],
   "source": [
    "# Plot train and validation accuracies of the two models\n",
    "\n",
    "train_accs = []\n",
    "val_accs = []\n",
    "for dropout in dropout_choices:\n",
    "  solver = solvers[dropout]\n",
    "  train_accs.append(solver.train_acc_history[-1])\n",
    "  val_accs.append(solver.val_acc_history[-1])\n",
    "\n",
    "plt.subplot(3, 1, 1)\n",
    "for dropout in dropout_choices:\n",
    "  plt.plot(solvers[dropout].train_acc_history, 'o', label='%.2f dropout' % dropout)\n",
    "plt.title('Train accuracy')\n",
    "plt.xlabel('Epoch')\n",
    "plt.ylabel('Accuracy')\n",
    "plt.legend(ncol=2, loc='lower right')\n",
    "  \n",
    "plt.subplot(3, 1, 2)\n",
    "for dropout in dropout_choices:\n",
    "  plt.plot(solvers[dropout].val_acc_history, 'o', label='%.2f dropout' % dropout)\n",
    "plt.title('Val accuracy')\n",
    "plt.xlabel('Epoch')\n",
    "plt.ylabel('Accuracy')\n",
    "plt.legend(ncol=2, loc='lower right')\n",
    "\n",
    "plt.gcf().set_size_inches(15, 15)\n",
    "plt.show()"
   ]
  },
  {
   "cell_type": "markdown",
   "metadata": {},
   "source": [
    "## Inline Question 2:\n",
    "Compare the validation and training accuracies with and without dropout -- what do your results suggest about dropout as a regularizer?"
   ]
  },
  {
   "cell_type": "markdown",
   "metadata": {},
   "source": [
    "## Answer:\n",
    "**Cherian & Raghu:** The training accuarcy is slightly higher when dropout is not used. However, on the validation set, the model that uses dropout outperforms the baseline model. The result confirms that dropout make a model harder to overfit and thus may perform better while in validation or testing."
   ]
  },
  {
   "cell_type": "markdown",
   "metadata": {},
   "source": [
    "## Inline Question 3:\n",
    "Suppose we are training a deep fully-connected network for image classification, with dropout after hidden layers (parameterized by keep probability p). How should we modify p, if at all, if we decide to decrease the size of the hidden layers (that is, the number of nodes in each layer)?"
   ]
  },
  {
   "cell_type": "markdown",
   "metadata": {},
   "source": [
    "## Answer:\n",
    "**Cherian & Raghu:** Dropout randomly deactivates neurons during the training and validation process to reduce overfitting. A lower p indicates that more number of neurons are deactivated during an iteration. Hence to decrease the size of the hidden layers, we need to go for lower values of p."
   ]
  },
  {
   "cell_type": "code",
   "execution_count": null,
   "metadata": {
    "collapsed": true
   },
   "outputs": [],
   "source": []
  }
 ],
 "metadata": {
  "kernelspec": {
   "display_name": "Python 3",
   "language": "python",
   "name": "python3"
  },
  "language_info": {
   "codemirror_mode": {
    "name": "ipython",
    "version": 3
   },
   "file_extension": ".py",
   "mimetype": "text/x-python",
   "name": "python",
   "nbconvert_exporter": "python",
   "pygments_lexer": "ipython3",
   "version": "3.6.3"
  }
 },
 "nbformat": 4,
 "nbformat_minor": 2
}
